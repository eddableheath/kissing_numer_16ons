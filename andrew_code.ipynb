{
 "cells": [
  {
   "cell_type": "markdown",
   "metadata": {},
   "source": [
    "# Andrew 16on Code"
   ]
  },
  {
   "cell_type": "markdown",
   "metadata": {},
   "source": [
    "Basic necessary functions for 16on algebra."
   ]
  },
  {
   "cell_type": "code",
   "execution_count": 1,
   "metadata": {},
   "outputs": [],
   "source": [
    "import numpy as np"
   ]
  },
  {
   "cell_type": "code",
   "execution_count": 2,
   "metadata": {},
   "outputs": [],
   "source": [
    "#quaternion multiplication\n",
    "def qmult(x, y):\n",
    "    return np.array([\n",
    "        x[0]*y[0] - x[1]*y[1] - x[2]*y[2] - x[3]*y[3],\n",
    "        x[0]*y[1] + x[1]*y[0] + x[2]*y[3] - x[3]*y[2],\n",
    "        x[0]*y[2] - x[1]*y[3] + x[2]*y[0] + x[3]*y[1],\n",
    "        x[0]*y[3] + x[1]*y[2] - x[2]*y[1] + x[3]*y[0]\n",
    "    ])\n",
    "\n",
    "#quaternion conjugate\n",
    "def qstar(x):\n",
    "    return x*np.array([1, -1, -1, -1])\n",
    "    \n",
    "#quaternion norm\n",
    "def qnorm(x):\n",
    "    return qmult(x,qstar(x))\n",
    "    \n",
    "#quaternion inverse\n",
    "def qinverse(x):\n",
    "    return qstar(x)/qnorm(x)[0]\n",
    "\n",
    "#random quaternion\n",
    "def random_q():\n",
    "    x = [randint(0, 9) for i in range(4)]\n",
    "    return x\n",
    "\n",
    "#octonion multiplication\n",
    "def omult(x, y):\n",
    "    #Split octonions into pairs of quaternions\n",
    "    a, b = x[:4], x[4:]\n",
    "    c, d = y[:4], y[4:]\n",
    "    \n",
    "    z = np.zeros(8)\n",
    "    z[:4] = qmult(a, c) - qmult(d, qstar(b))\n",
    "    z[4:] = qmult(qstar(a), d) + qmult(c, b)\n",
    "    return z"
   ]
  },
  {
   "cell_type": "code",
   "execution_count": 5,
   "metadata": {},
   "outputs": [
    {
     "name": "stdout",
     "output_type": "stream",
     "text": [
      "[6, 2, 1, 2, 8, 0, 0, 4] 125.0 [ 0.048 -0.016 -0.008 -0.016 -0.064 -0.    -0.    -0.032] [1. 0. 0. 0. 0. 0. 0. 0.] [1 0 0 0 0 0 0 0]\n"
     ]
    }
   ],
   "source": [
    "#octonion conjugate\n",
    "def ostar(x):\n",
    "        mask = -np.ones(8)\n",
    "        mask[0] = 1\n",
    "        return x*mask\n",
    "\n",
    "#octonion norm\n",
    "def onorm(x):\n",
    "    return omult(x,ostar(x))\n",
    "    \n",
    "#octonion inverse\n",
    "def oinverse(x):\n",
    "    return ostar(x)/onorm(x)[0]\n",
    "    \n",
    "#random octonion\n",
    "def random_o():\n",
    "    x = [np.random.randint(0, 9) for i in range(8)]\n",
    "    return x\n",
    "\n",
    "#sedenion multiplication\n",
    "def smult(x, y):\n",
    "    #Split sedenions into pairs of octonions\n",
    "    a, b = x[:8], x[8:]\n",
    "    c, d = y[:8], y[8:]\n",
    "    z = np.zeros(16)\n",
    "    z[:8] = omult(a, c) - omult(d, ostar(b))\n",
    "    z[8:] = omult(ostar(a), d) + omult(c, b)\n",
    "    return z\n",
    "\n",
    "x = random_o()\n",
    "y = oinverse(x)\n",
    "y2 = np.ceil(y).astype(int)\n",
    "    \n",
    "print(x,onorm(x)[0],y,omult(x,y),y2)"
   ]
  },
  {
   "cell_type": "code",
   "execution_count": 31,
   "metadata": {},
   "outputs": [
    {
     "name": "stdout",
     "output_type": "stream",
     "text": [
      "[1, 0, 7, 2, 0, 8, 5, 8, 1, 8, 2, 2, 8, 1, 8, 4] 425.0 [ 0.00235294 -0.         -0.01647059 -0.00470588 -0.         -0.01882353\n",
      " -0.01176471 -0.01882353 -0.00235294 -0.01882353 -0.00470588 -0.00470588\n",
      " -0.01882353 -0.00235294 -0.01882353 -0.00941176] [ 1.00000000e+00  6.93889390e-18 -1.38777878e-17 -1.73472348e-18\n",
      "  1.38777878e-17 -2.77555756e-17  0.00000000e+00  2.77555756e-17\n",
      "  5.55111512e-17  5.55111512e-17  2.77555756e-17 -2.77555756e-17\n",
      " -4.16333634e-17  1.38777878e-17  1.11022302e-16 -2.77555756e-17] [1 0 0 0 0 0 0 0 0 0 0 0 0 0 0 0]\n",
      "this should be correct [ 1.  1. -0. -0.  1. -0.  0.  1.  1.  1.  1. -0. -0.  1.  1. -0.]\n",
      "this should be correct [ 1.  0. -0. -0.  0. -0.  0.  0.  0.  0.  0. -0. -0.  0.  0. -0.]\n"
     ]
    }
   ],
   "source": [
    "#16on multiplication\n",
    "def sonmult(x, y):\n",
    "    #Split 16ons into pairs of octonions\n",
    "    a, b = x[:8], x[8:]\n",
    "    c, d = y[:8], y[8:]\n",
    "    z = np.zeros(16)\n",
    "    z[:8] = omult(a, c) - omult(d, ostar(b))\n",
    "    z[8:] = omult(c, b) + omult(omult(ostar(a), oinverse(b)),omult(b,d))\n",
    "    return z\n",
    "    \n",
    "#16on conjugate\n",
    "def sonstar(x):\n",
    "        mask = -np.ones(16)\n",
    "        mask[0] = 1\n",
    "        return x*mask\n",
    "\n",
    "#16on norm\n",
    "def sonnorm(x):\n",
    "    return sonmult(x,sonstar(x))\n",
    "    \n",
    "#16on inverse\n",
    "def soninverse(x):\n",
    "    return sonstar(x)/sonnorm(x)[0]\n",
    "    \n",
    "#random 16on\n",
    "def random_son():\n",
    "    x = [np.random.randint(0, 9) for i in range(16)]\n",
    "    return x\n",
    "\n",
    "x = random_son()\n",
    "y = soninverse(x)\n",
    "y2 = np.ceil(y).astype(int)\n",
    "y3 = np.ceil(sonmult(x,y))\n",
    "y4 = np.around(sonmult(x,y))\n",
    "    \n",
    "print(x,sonnorm(x)[0],y,sonmult(x,y),y2)\n",
    "print(f'this should be correct {y3}')\n",
    "print(f'this should be correct {y4}')"
   ]
  },
  {
   "cell_type": "code",
   "execution_count": null,
   "metadata": {},
   "outputs": [],
   "source": []
  }
 ],
 "metadata": {
  "kernelspec": {
   "display_name": "Python 3",
   "language": "python",
   "name": "python3"
  },
  "language_info": {
   "codemirror_mode": {
    "name": "ipython",
    "version": 3
   },
   "file_extension": ".py",
   "mimetype": "text/x-python",
   "name": "python",
   "nbconvert_exporter": "python",
   "pygments_lexer": "ipython3",
   "version": "3.7.0"
  }
 },
 "nbformat": 4,
 "nbformat_minor": 4
}
